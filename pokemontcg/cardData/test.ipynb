{
 "cells": [
  {
   "cell_type": "code",
   "execution_count": 2,
   "metadata": {},
   "outputs": [
    {
     "name": "stderr",
     "output_type": "stream",
     "text": [
      "/tmp/ipykernel_164473/2971081310.py:8: UserWarning: pandas only supports SQLAlchemy connectable (engine/connection) or database string URI or sqlite3 DBAPI2 connection. Other DBAPI2 objects are not tested. Please consider using SQLAlchemy.\n",
      "  df_pokemon = pd.read_sql('select * from pokedex_pokemon', con=engine)\n",
      "/tmp/ipykernel_164473/2971081310.py:9: UserWarning: pandas only supports SQLAlchemy connectable (engine/connection) or database string URI or sqlite3 DBAPI2 connection. Other DBAPI2 objects are not tested. Please consider using SQLAlchemy.\n",
      "  df_trainer = pd.read_sql('select * from pokedex_trainer', con=engine)\n",
      "/tmp/ipykernel_164473/2971081310.py:10: UserWarning: pandas only supports SQLAlchemy connectable (engine/connection) or database string URI or sqlite3 DBAPI2 connection. Other DBAPI2 objects are not tested. Please consider using SQLAlchemy.\n",
      "  df_energy = pd.read_sql('select * from pokedex_energy', con=engine)\n"
     ]
    }
   ],
   "source": [
    "import pandas as pd\n",
    "import psycopg as pg\n",
    "import matplotlib.pyplot as plt \n",
    "import numpy as np\n",
    "import json\n",
    "\n",
    "engine = pg.connect(\"dbname='cpun' user='cpun' host='149.89.160.100' port='5432' password='C#Gh$!SY3@%vG5'\")\n",
    "df_pokemon = pd.read_sql('select * from pokedex_pokemon', con=engine)\n",
    "df_trainer = pd.read_sql('select * from pokedex_trainer', con=engine)\n",
    "df_energy = pd.read_sql('select * from pokedex_energy', con=engine)"
   ]
  },
  {
   "cell_type": "code",
   "execution_count": 4,
   "metadata": {},
   "outputs": [
    {
     "data": {
      "text/html": [
       "<div>\n",
       "<style scoped>\n",
       "    .dataframe tbody tr th:only-of-type {\n",
       "        vertical-align: middle;\n",
       "    }\n",
       "\n",
       "    .dataframe tbody tr th {\n",
       "        vertical-align: top;\n",
       "    }\n",
       "\n",
       "    .dataframe thead th {\n",
       "        text-align: right;\n",
       "    }\n",
       "</style>\n",
       "<table border=\"1\" class=\"dataframe\">\n",
       "  <thead>\n",
       "    <tr style=\"text-align: right;\">\n",
       "      <th></th>\n",
       "      <th>id</th>\n",
       "      <th>card_id</th>\n",
       "      <th>name</th>\n",
       "      <th>rarity</th>\n",
       "      <th>image</th>\n",
       "      <th>prices</th>\n",
       "      <th>highest_market_price</th>\n",
       "    </tr>\n",
       "  </thead>\n",
       "  <tbody>\n",
       "    <tr>\n",
       "      <th>0</th>\n",
       "      <td>1</td>\n",
       "      <td>base1-1</td>\n",
       "      <td>Alakazam</td>\n",
       "      <td>Rare Holo</td>\n",
       "      <td>https://images.pokemontcg.io/base1/1_hires.png</td>\n",
       "      <td>{'url': 'https://prices.pokemontcg.io/tcgplaye...</td>\n",
       "      <td>43.54</td>\n",
       "    </tr>\n",
       "    <tr>\n",
       "      <th>1</th>\n",
       "      <td>2</td>\n",
       "      <td>base1-4</td>\n",
       "      <td>Charizard</td>\n",
       "      <td>Rare Holo</td>\n",
       "      <td>https://images.pokemontcg.io/base1/4_hires.png</td>\n",
       "      <td>{'url': 'https://prices.pokemontcg.io/tcgplaye...</td>\n",
       "      <td>341.45</td>\n",
       "    </tr>\n",
       "    <tr>\n",
       "      <th>2</th>\n",
       "      <td>3</td>\n",
       "      <td>base1-5</td>\n",
       "      <td>Clefairy</td>\n",
       "      <td>Rare Holo</td>\n",
       "      <td>https://images.pokemontcg.io/base1/5_hires.png</td>\n",
       "      <td>{'url': 'https://prices.pokemontcg.io/tcgplaye...</td>\n",
       "      <td>19.19</td>\n",
       "    </tr>\n",
       "    <tr>\n",
       "      <th>3</th>\n",
       "      <td>4</td>\n",
       "      <td>base1-2</td>\n",
       "      <td>Blastoise</td>\n",
       "      <td>Rare Holo</td>\n",
       "      <td>https://images.pokemontcg.io/base1/2_hires.png</td>\n",
       "      <td>{'url': 'https://prices.pokemontcg.io/tcgplaye...</td>\n",
       "      <td>123.34</td>\n",
       "    </tr>\n",
       "    <tr>\n",
       "      <th>4</th>\n",
       "      <td>5</td>\n",
       "      <td>base1-3</td>\n",
       "      <td>Chansey</td>\n",
       "      <td>Rare Holo</td>\n",
       "      <td>https://images.pokemontcg.io/base1/3_hires.png</td>\n",
       "      <td>{'url': 'https://prices.pokemontcg.io/tcgplaye...</td>\n",
       "      <td>27.93</td>\n",
       "    </tr>\n",
       "    <tr>\n",
       "      <th>...</th>\n",
       "      <td>...</td>\n",
       "      <td>...</td>\n",
       "      <td>...</td>\n",
       "      <td>...</td>\n",
       "      <td>...</td>\n",
       "      <td>...</td>\n",
       "      <td>...</td>\n",
       "    </tr>\n",
       "    <tr>\n",
       "      <th>63</th>\n",
       "      <td>64</td>\n",
       "      <td>base1-63</td>\n",
       "      <td>Squirtle</td>\n",
       "      <td>Common</td>\n",
       "      <td>https://images.pokemontcg.io/base1/63_hires.png</td>\n",
       "      <td>{'url': 'https://prices.pokemontcg.io/tcgplaye...</td>\n",
       "      <td>1.37</td>\n",
       "    </tr>\n",
       "    <tr>\n",
       "      <th>64</th>\n",
       "      <td>65</td>\n",
       "      <td>base1-66</td>\n",
       "      <td>Tangela</td>\n",
       "      <td>Common</td>\n",
       "      <td>https://images.pokemontcg.io/base1/66_hires.png</td>\n",
       "      <td>{'url': 'https://prices.pokemontcg.io/tcgplaye...</td>\n",
       "      <td>0.36</td>\n",
       "    </tr>\n",
       "    <tr>\n",
       "      <th>65</th>\n",
       "      <td>66</td>\n",
       "      <td>base1-67</td>\n",
       "      <td>Voltorb</td>\n",
       "      <td>Common</td>\n",
       "      <td>https://images.pokemontcg.io/base1/67_hires.png</td>\n",
       "      <td>{'url': 'https://prices.pokemontcg.io/tcgplaye...</td>\n",
       "      <td>0.83</td>\n",
       "    </tr>\n",
       "    <tr>\n",
       "      <th>66</th>\n",
       "      <td>67</td>\n",
       "      <td>base1-68</td>\n",
       "      <td>Vulpix</td>\n",
       "      <td>Common</td>\n",
       "      <td>https://images.pokemontcg.io/base1/68_hires.png</td>\n",
       "      <td>{'url': 'https://prices.pokemontcg.io/tcgplaye...</td>\n",
       "      <td>0.52</td>\n",
       "    </tr>\n",
       "    <tr>\n",
       "      <th>67</th>\n",
       "      <td>68</td>\n",
       "      <td>base1-69</td>\n",
       "      <td>Weedle</td>\n",
       "      <td>Common</td>\n",
       "      <td>https://images.pokemontcg.io/base1/69_hires.png</td>\n",
       "      <td>{'url': 'https://prices.pokemontcg.io/tcgplaye...</td>\n",
       "      <td>0.35</td>\n",
       "    </tr>\n",
       "  </tbody>\n",
       "</table>\n",
       "<p>68 rows × 7 columns</p>\n",
       "</div>"
      ],
      "text/plain": [
       "    id   card_id       name     rarity  \\\n",
       "0    1   base1-1   Alakazam  Rare Holo   \n",
       "1    2   base1-4  Charizard  Rare Holo   \n",
       "2    3   base1-5   Clefairy  Rare Holo   \n",
       "3    4   base1-2  Blastoise  Rare Holo   \n",
       "4    5   base1-3    Chansey  Rare Holo   \n",
       "..  ..       ...        ...        ...   \n",
       "63  64  base1-63   Squirtle     Common   \n",
       "64  65  base1-66    Tangela     Common   \n",
       "65  66  base1-67    Voltorb     Common   \n",
       "66  67  base1-68     Vulpix     Common   \n",
       "67  68  base1-69     Weedle     Common   \n",
       "\n",
       "                                              image  \\\n",
       "0    https://images.pokemontcg.io/base1/1_hires.png   \n",
       "1    https://images.pokemontcg.io/base1/4_hires.png   \n",
       "2    https://images.pokemontcg.io/base1/5_hires.png   \n",
       "3    https://images.pokemontcg.io/base1/2_hires.png   \n",
       "4    https://images.pokemontcg.io/base1/3_hires.png   \n",
       "..                                              ...   \n",
       "63  https://images.pokemontcg.io/base1/63_hires.png   \n",
       "64  https://images.pokemontcg.io/base1/66_hires.png   \n",
       "65  https://images.pokemontcg.io/base1/67_hires.png   \n",
       "66  https://images.pokemontcg.io/base1/68_hires.png   \n",
       "67  https://images.pokemontcg.io/base1/69_hires.png   \n",
       "\n",
       "                                               prices  highest_market_price  \n",
       "0   {'url': 'https://prices.pokemontcg.io/tcgplaye...                 43.54  \n",
       "1   {'url': 'https://prices.pokemontcg.io/tcgplaye...                341.45  \n",
       "2   {'url': 'https://prices.pokemontcg.io/tcgplaye...                 19.19  \n",
       "3   {'url': 'https://prices.pokemontcg.io/tcgplaye...                123.34  \n",
       "4   {'url': 'https://prices.pokemontcg.io/tcgplaye...                 27.93  \n",
       "..                                                ...                   ...  \n",
       "63  {'url': 'https://prices.pokemontcg.io/tcgplaye...                  1.37  \n",
       "64  {'url': 'https://prices.pokemontcg.io/tcgplaye...                  0.36  \n",
       "65  {'url': 'https://prices.pokemontcg.io/tcgplaye...                  0.83  \n",
       "66  {'url': 'https://prices.pokemontcg.io/tcgplaye...                  0.52  \n",
       "67  {'url': 'https://prices.pokemontcg.io/tcgplaye...                  0.35  \n",
       "\n",
       "[68 rows x 7 columns]"
      ]
     },
     "execution_count": 4,
     "metadata": {},
     "output_type": "execute_result"
    }
   ],
   "source": [
    "df_pokemon"
   ]
  },
  {
   "cell_type": "code",
   "execution_count": 4,
   "metadata": {},
   "outputs": [
    {
     "name": "stdout",
     "output_type": "stream",
     "text": [
      "[68, 26, 7]\n"
     ]
    },
    {
     "data": {
      "text/plain": [
       "Text(0, 0.5, 'Number of Cards')"
      ]
     },
     "execution_count": 4,
     "metadata": {},
     "output_type": "execute_result"
    },
    {
     "data": {
      "image/png": "[encoded data removed]",
      "text/plain": [
       "<Figure size 640x480 with 1 Axes>"
      ]
     },
     "metadata": {},
     "output_type": "display_data"
    }
   ],
   "source": [
    "# bar graph grouping by supertype and rarity of number of cards\n",
    "\n",
    "# cat = [df_pokemon, df_trainer, df_energy]\n",
    "# result = pd.concat(cat)\n",
    "\n",
    "pokemon = len(df_pokemon.index)\n",
    "trainer = len(df_trainer.index)\n",
    "energy = len(df_energy.index)\n",
    "\n",
    "sizes = [Pokemon, Trainer, Energy]\n",
    "names = ['pokemon','trainer', 'energy']\n",
    "print(sizes)\n",
    "plt.bar(names, sizes)\n",
    "plt.title('Number of Pokemon Cards')\n",
    "plt.xlabel('Type of Card')\n",
    "plt.ylabel('Number of Cards')\n",
    "\n",
    "# plt.show()"
   ]
  },
  {
   "cell_type": "code",
   "execution_count": 7,
   "metadata": {},
   "outputs": [
    {
     "name": "stdout",
     "output_type": "stream",
     "text": [
      "rarity\n",
      "Common       27\n",
      "Rare          6\n",
      "Rare Holo    15\n",
      "Uncommon     20\n",
      "dtype: int64\n"
     ]
    }
   ],
   "source": [
    "pokemon_r = (df_pokemon.groupby('rarity').size())\n",
    "print(pokemon_r)"
   ]
  },
  {
   "cell_type": "code",
   "execution_count": null,
   "metadata": {},
   "outputs": [],
   "source": []
  }
 ],
 "metadata": {
  "kernelspec": {
   "display_name": "Python 3",
   "language": "python",
   "name": "python3"
  },
  "language_info": {
   "codemirror_mode": {
    "name": "ipython",
    "version": 3
   },
   "file_extension": ".py",
   "mimetype": "text/x-python",
   "name": "python",
   "nbconvert_exporter": "python",
   "pygments_lexer": "ipython3",
   "version": "3.11.5"
  }
 },
 "nbformat": 4,
 "nbformat_minor": 2
}
